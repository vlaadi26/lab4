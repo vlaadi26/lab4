{
 "cells": [
  {
   "cell_type": "markdown",
   "metadata": {},
   "source": [
    "# Functions"
   ]
  },
  {
   "cell_type": "markdown",
   "metadata": {},
   "source": [
    "En este laboratorio pondremos en práctica algunos de los conceptos que hemos aprendido en los últimos días.\n",
    "\n",
    "`NOTA: En este laboratorio deberías intentar escribir todas las funciones por ti mismo utilizando solo la sintaxis más básica de Python y sin funciones como len, count, sum, max, min, in, etc. Dale una oportunidad. 🧑🏻‍💻👩🏻‍💻`\n",
    "\n",
    "La celda después de cada ejercicio contiene algunas pruebas para verificar si tu función funciona como se espera."
   ]
  },
  {
   "cell_type": "code",
   "execution_count": 1,
   "metadata": {},
   "outputs": [
    {
     "ename": "ModuleNotFoundError",
     "evalue": "No module named 'mod'",
     "output_type": "error",
     "traceback": [
      "\u001b[0;31m---------------------------------------------------------------------------\u001b[0m",
      "\u001b[0;31mModuleNotFoundError\u001b[0m                       Traceback (most recent call last)",
      "Cell \u001b[0;32mIn[1], line 1\u001b[0m\n\u001b[0;32m----> 1\u001b[0m \u001b[38;5;28;01mfrom\u001b[39;00m \u001b[38;5;21;01mmod\u001b[39;00m\u001b[38;5;21;01m.\u001b[39;00m\u001b[38;5;21;01mtesting\u001b[39;00m \u001b[38;5;28;01mimport\u001b[39;00m \u001b[38;5;241m*\u001b[39m\n\u001b[1;32m      2\u001b[0m \u001b[38;5;28;01mimport\u001b[39;00m \u001b[38;5;21;01munittest\u001b[39;00m\n",
      "\u001b[0;31mModuleNotFoundError\u001b[0m: No module named 'mod'"
     ]
    }
   ],
   "source": [
    "from mod.testing import *\n",
    "import unittest"
   ]
  },
  {
   "cell_type": "markdown",
   "metadata": {},
   "source": [
    "## 1. Escribe una función que devuelva el mayor de dos números"
   ]
  },
  {
   "cell_type": "code",
   "execution_count": 28,
   "metadata": {},
   "outputs": [],
   "source": [
    "def greater(a,b):\n",
    "    if a> b:\n",
    "        return a\n",
    "    else:\n",
    "        return b\n",
    "\n",
    "#your code here#tu codigo aquí"
   ]
  },
  {
   "cell_type": "code",
   "execution_count": 32,
   "metadata": {},
   "outputs": [
    {
     "data": {
      "text/plain": [
       "12"
      ]
     },
     "execution_count": 32,
     "metadata": {},
     "output_type": "execute_result"
    }
   ],
   "source": [
    "# Para testear tu función\n",
    "greater(10,12)\n",
    "\n",
    "\n"
   ]
  },
  {
   "cell_type": "markdown",
   "metadata": {},
   "source": [
    "## 2. Ahora escribe una función que devuelva el elemento más"
   ]
  },
  {
   "cell_type": "code",
   "execution_count": 39,
   "metadata": {},
   "outputs": [],
   "source": [
    "#tu codigo aquí\n",
    "def max_element(element: list[int]):\n",
    "\n",
    "    return max(element)\n",
    "    "
   ]
  },
  {
   "cell_type": "code",
   "execution_count": 45,
   "metadata": {},
   "outputs": [
    {
     "name": "stdout",
     "output_type": "stream",
     "text": [
      "el elemento mas alto es 13\n"
     ]
    }
   ],
   "source": [
    "# Para testear tu función\n",
    "\n",
    "numbers = [2, 13, 4, 5, 6, 7]\n",
    "max_value = max_element(numbers) \n",
    "\n",
    "print(f'el elemento mas alto es {max_value}')"
   ]
  },
  {
   "cell_type": "markdown",
   "metadata": {},
   "source": [
    "## 3. Escribe una función que sume todos los elementos de una lista"
   ]
  },
  {
   "cell_type": "code",
   "execution_count": 48,
   "metadata": {},
   "outputs": [],
   "source": [
    "\n",
    "#tu codigo aquí\n",
    "from typing import List\n",
    "\n",
    "def sum_all(elements: List[int]):\n",
    "    total = 0\n",
    "\n",
    "    for element in elements:\n",
    "        total += element\n",
    "    return total"
   ]
  },
  {
   "cell_type": "code",
   "execution_count": 51,
   "metadata": {
    "scrolled": true
   },
   "outputs": [
    {
     "name": "stdout",
     "output_type": "stream",
     "text": [
      "la suma total es: 37\n"
     ]
    }
   ],
   "source": [
    "# Para testear tu función\n",
    "\n",
    "total_sum = sum_all(numbers)\n",
    "print(f'la suma total es: {total_sum}')\n",
    "\n",
    "#test_sum(sum_all)"
   ]
  },
  {
   "cell_type": "markdown",
   "metadata": {},
   "source": [
    "## 4. Escribe otra función que multiplique todos los elementos de una lista"
   ]
  },
  {
   "cell_type": "code",
   "execution_count": 54,
   "metadata": {},
   "outputs": [],
   "source": [
    "from functools import reduce\n",
    "\n",
    "def mult_all(elements: List[int]):\n",
    "    \n",
    "    return reduce(lambda x, y: x * y, elements)\n",
    "    \n",
    "#tu codigo aquí"
   ]
  },
  {
   "cell_type": "code",
   "execution_count": 59,
   "metadata": {
    "scrolled": true
   },
   "outputs": [
    {
     "name": "stdout",
     "output_type": "stream",
     "text": [
      "la multiplicacion total es: 21840\n"
     ]
    }
   ],
   "source": [
    "# Para testear tu función\n",
    "total_mult = mult_all(numbers)\n",
    "print(f'la multiplicacion total es: {total_mult}')\n",
    "\n",
    "#test_mult(mult_all)"
   ]
  },
  {
   "cell_type": "markdown",
   "metadata": {},
   "source": [
    "## 5. Ahora combina esas dos ideas y escribe una función que reciba una lista y ya sea \"+\" o \"*\", y produzca el resultado acorde"
   ]
  },
  {
   "cell_type": "code",
   "execution_count": 80,
   "metadata": {},
   "outputs": [],
   "source": [
    "from functools import reduce\n",
    "\n",
    "def operar_lista(lista, operacion):\n",
    "    if operacion == \"+\":\n",
    "        return reduce(lambda x, y: x + y, lista)\n",
    "    elif operacion == \"*\":\n",
    "        return reduce(lambda x, y: x * y, lista)  \n",
    "    else:\n",
    "        return \"Operación no válida\"  \n"
   ]
  },
  {
   "cell_type": "code",
   "execution_count": 82,
   "metadata": {},
   "outputs": [
    {
     "name": "stdout",
     "output_type": "stream",
     "text": [
      "24\n"
     ]
    }
   ],
   "source": [
    "print(operar_lista([1, 2, 3, 4], \"*\")) "
   ]
  },
  {
   "cell_type": "markdown",
   "metadata": {},
   "source": [
    "## 6. Escribe una función que devuelva el factorial de un número."
   ]
  },
  {
   "cell_type": "code",
   "execution_count": 84,
   "metadata": {},
   "outputs": [],
   "source": [
    "\n",
    "def factorial(n):\n",
    "    resultado = 1  # El factorial de 0 y 1 es 1\n",
    "    for i in range(2, n + 1):  # Recorremos desde 2 hasta n\n",
    "        resultado *= i  # Multiplicamos el resultado por cada número\n",
    "    return resultado\n",
    "#tu codigo aquí"
   ]
  },
  {
   "cell_type": "code",
   "execution_count": 1,
   "metadata": {},
   "outputs": [],
   "source": [
    "# Fórmula factorial\n",
    "# n! = n * (n - 1) *...*1\n",
    "\n",
    "# Este código define una función llamada \"factorial\" que toma una entrada \"n\". La función utiliza un bucle for para iterar a través del rango de números\n",
    "# desde 1 hasta n+1. Para cada número en ese rango, multiplica el valor actual de x por el número en el rango. Al final del bucle,\n",
    "# la función devuelve el valor final de x, que será el factorial del número de entrada \"n\".\n",
    "\n",
    "# El factorial de un entero positivo n es el producto de todos los enteros positivos menores o iguales a n.\n",
    "# Por ejemplo, el factorial de 6 (escrito \"6!\") es 6 * 5 * 4 * 3 * 2 * 1 = 720.\n",
    "\n",
    "# Así que esta función toma una entrada de cualquier entero positivo y devuelve el factorial de ese número."
   ]
  },
  {
   "cell_type": "code",
   "execution_count": 86,
   "metadata": {},
   "outputs": [
    {
     "name": "stdout",
     "output_type": "stream",
     "text": [
      "24\n"
     ]
    }
   ],
   "source": [
    "# This will test your fun)\n",
    "print(factorial(4))\n"
   ]
  },
  {
   "cell_type": "markdown",
   "metadata": {},
   "source": [
    "## 7. Escribe una función que tome una lista y devuelva una lista de los valores únicos.\n",
    "\n",
    "`NOTE: No podemos usar set. 🤔`"
   ]
  },
  {
   "cell_type": "code",
   "execution_count": 89,
   "metadata": {},
   "outputs": [],
   "source": [
    "def valores_unicos(lista):\n",
    "    unicos = []  \n",
    "    for elemento in lista:\n",
    "        if elemento not in unicos:  \n",
    "            unicos.append(elemento)  \n",
    "    return unicos"
   ]
  },
  {
   "cell_type": "code",
   "execution_count": 94,
   "metadata": {},
   "outputs": [
    {
     "name": "stdout",
     "output_type": "stream",
     "text": [
      "[1, 2, 3, 4, 5, 6]\n"
     ]
    }
   ],
   "source": [
    "lista = [1, 2, 2, 3, 4, 4, 5, 5, 6,2]\n",
    "print(valores_unicos(lista)) \n",
    "#test_unique(unique)"
   ]
  },
  {
   "cell_type": "markdown",
   "metadata": {},
   "source": [
    "## 8. Escribe una función que devuelva la moda de una lista, es decir: el elemento que aparece más veces.\n",
    "\n",
    "`NOTE: No se debe usar count... 🧐`"
   ]
  },
  {
   "cell_type": "code",
   "execution_count": 97,
   "metadata": {},
   "outputs": [],
   "source": [
    "\n",
    "def mode_count(arr):\n",
    "    conteo = {}  \n",
    "\n",
    "    for elemento in arr:\n",
    "        if elemento in conteo:\n",
    "            conteo[elemento] += 1\n",
    "        else:\n",
    "            conteo[elemento] = 1\n",
    "    \n",
    "\n",
    "    max_ocurrencias = 0\n",
    "    moda = None\n",
    "    for elemento, cantidad in conteo.items():\n",
    "        if cantidad > max_ocurrencias:\n",
    "            max_ocurrencias = cantidad\n",
    "            moda = elemento\n",
    "    \n",
    "    return moda"
   ]
  },
  {
   "cell_type": "code",
   "execution_count": 100,
   "metadata": {},
   "outputs": [
    {
     "name": "stdout",
     "output_type": "stream",
     "text": [
      "2\n"
     ]
    }
   ],
   "source": [
    "lista = [1, 2, 2, 2, 2, 2, 2, 2, 2, 3, 3, 3, 4, 4, 4, 4, 4, 4]\n",
    "\n",
    "print(mode_count(lista)) "
   ]
  },
  {
   "cell_type": "markdown",
   "metadata": {},
   "source": [
    "## 9. Escribe una función que calcule la desviación estándar de una lista.\n",
    "`NOTE: no utilices librerías ni ninguna función ya construida. 😉`"
   ]
  },
  {
   "cell_type": "code",
   "execution_count": 104,
   "metadata": {},
   "outputs": [],
   "source": [
    "def st_dev(lista):\n",
    "    n = len(lista)\n",
    "    if n == 0:\n",
    "        return None  \n",
    "    \n",
    "    suma = 0\n",
    "    for valor in lista:\n",
    "        suma += valor\n",
    "    media = suma / n\n",
    "\n",
    "    \n",
    "    suma_diferencias_cuadrado = 0\n",
    "    for valor in lista:\n",
    "        diferencia = valor - media\n",
    "        suma_diferencias_cuadrado += diferencia ** 2\n",
    "    varianza = suma_diferencias_cuadrado / n\n",
    "\n",
    "    \n",
    "    desviacion_estandar = varianza ** 0.5\n",
    "\n",
    "    return desviacion_estandar\n",
    "#tu codigo aquí"
   ]
  },
  {
   "cell_type": "code",
   "execution_count": 106,
   "metadata": {},
   "outputs": [
    {
     "name": "stdout",
     "output_type": "stream",
     "text": [
      "Desviación estándar para [1, 2, 3, 4, 5, 6, 8]: 2.231499907401901\n"
     ]
    }
   ],
   "source": [
    "lista_prueba = [1, 2, 3, 4, 5, 6, 8]\n",
    "resultado = st_dev(lista_prueba)\n",
    "\n",
    "# Mostrar el resultado\n",
    "print(f\"Desviación estándar para {lista_prueba}: {resultado}\")\n",
    "\n",
    "# Ejecutar los tests"
   ]
  },
  {
   "cell_type": "markdown",
   "metadata": {},
   "source": [
    "## 10. Escribe una función para verificar si una cadena es un pangrama, es decir: si contiene todas las letras del alfabeto al menos una vez. Ten en cuenta que las cadenas pueden contener caracteres que no son letras."
   ]
  },
  {
   "cell_type": "code",
   "execution_count": 113,
   "metadata": {},
   "outputs": [],
   "source": [
    "def es_pangrama(string):\n",
    "    alfabeto = 'abcdefghijklmnopqrstuvwxyz'\n",
    "    letras_encontradas = set()  \n",
    "    \n",
    "    for caracter in string.lower():  \n",
    "        if caracter in alfabeto:\n",
    "            letras_encontradas.add(caracter)\n",
    "    \n",
    "    return len(letras_encontradas) == 26"
   ]
  },
  {
   "cell_type": "code",
   "execution_count": 115,
   "metadata": {},
   "outputs": [
    {
     "name": "stdout",
     "output_type": "stream",
     "text": [
      "True\n",
      "False\n"
     ]
    }
   ],
   "source": [
    "print(es_pangrama(\"Jovencillo emponzoñado de whisky: ¡qué figurota exhibes!\"))\n",
    "print(es_pangrama(\"mi nombre es:\"))  "
   ]
  },
  {
   "cell_type": "markdown",
   "metadata": {},
   "source": [
    "## 11. Escribe una función que reciba una cadena de palabras separadas por comas y devuelva una cadena de palabras separadas por comas ordenadas alfabéticamente.\n",
    "\n",
    "`NOTA: Puedes usar sorted pero no split y definitivamente no join! 🤪`"
   ]
  },
  {
   "cell_type": "code",
   "execution_count": 133,
   "metadata": {},
   "outputs": [],
   "source": [
    "def sort_alpha(cadena):\n",
    "    \n",
    "    palabras = []\n",
    "    palabra_actual = \"\"\n",
    "    for caracter in cadena:\n",
    "        if caracter == ',':\n",
    "            if palabra_actual:\n",
    "                palabras.append(palabra_actual)\n",
    "                palabra_actual = \"\"\n",
    "        else:\n",
    "            palabra_actual += caracter\n",
    "    if palabra_actual:  # Agregar la última palabra si existe\n",
    "        palabras.append(palabra_actual)\n",
    "    \n",
    "    # Paso 2: Ordenar las palabras alfabéticamente\n",
    "    palabras_ordenadas = sorted(palabras)\n",
    "    \n",
    "    # Paso 3: Construir la cadena de salida\n",
    "    resultado = \"\"\n",
    "    for i, palabra in enumerate(palabras_ordenadas):\n",
    "        if i > 0:\n",
    "            resultado += \",\"\n",
    "        resultado += palabra\n",
    "    \n",
    "    return resultado"
   ]
  },
  {
   "cell_type": "code",
   "execution_count": 139,
   "metadata": {},
   "outputs": [
    {
     "name": "stdout",
     "output_type": "stream",
     "text": [
      " apple, banana, grape, orange, platano\n"
     ]
    }
   ],
   "source": [
    "# Para testear tu función \n",
    "\n",
    "print(sort_alpha(\", apple, orange, grape, platano, banana\"))\n",
    "#test_alpha(sort_alpha)"
   ]
  },
  {
   "cell_type": "markdown",
   "metadata": {},
   "source": [
    "## 12. Escribe una función para verificar si una contraseña dada es fuerte (al menos 8 caracteres, al menos una minúscula, al menos una mayúscula, al menos un número y al menos un carácter especial). Debería devolver True si es fuerte y False si no lo es."
   ]
  },
  {
   "cell_type": "code",
   "execution_count": 142,
   "metadata": {},
   "outputs": [],
   "source": [
    "def check_pass(password):\n",
    "\n",
    "    if len(password) < 8:\n",
    "        return False\n",
    "\n",
    "    has_lower = False\n",
    "    has_upper = False\n",
    "    has_digit = False\n",
    "    has_special = False\n",
    "\n",
    "    special_characters = \"!@#$%^&*()-_+=[]{}|;:',.<>?/`~\"\n",
    "   \n",
    "    for char in password:\n",
    "        if char.islower():\n",
    "            has_lower = True\n",
    "        elif char.isupper():\n",
    "            has_upper = True\n",
    "        elif char.isdigit():\n",
    "            has_digit = True\n",
    "        elif char in special_characters:\n",
    "            has_special = True\n",
    "\n",
    "    return has_lower and has_upper and has_digit and has_special"
   ]
  },
  {
   "cell_type": "code",
   "execution_count": 145,
   "metadata": {},
   "outputs": [
    {
     "name": "stdout",
     "output_type": "stream",
     "text": [
      "True\n",
      "False\n",
      "False\n",
      "False\n"
     ]
    }
   ],
   "source": [
    "# Para testear tu función\n",
    "print(check_pass(\"A1b@defg\")) \n",
    "print(check_pass(\"abc123\"))   \n",
    "print(check_pass(\"ABCDEF12\"))  \n",
    "print(check_pass(\"A1b@\")) \n",
    "#test_pass(check_pass)"
   ]
  },
  {
   "cell_type": "code",
   "execution_count": null,
   "metadata": {},
   "outputs": [],
   "source": []
  }
 ],
 "metadata": {
  "kernelspec": {
   "display_name": "Python 3 (ipykernel)",
   "language": "python",
   "name": "python3"
  },
  "language_info": {
   "codemirror_mode": {
    "name": "ipython",
    "version": 3
   },
   "file_extension": ".py",
   "mimetype": "text/x-python",
   "name": "python",
   "nbconvert_exporter": "python",
   "pygments_lexer": "ipython3",
   "version": "3.12.4"
  },
  "vscode": {
   "interpreter": {
    "hash": "aee8b7b246df8f9039afb4144a1f6fd8d2ca17a180786b69acc140d282b71a49"
   }
  }
 },
 "nbformat": 4,
 "nbformat_minor": 4
}
